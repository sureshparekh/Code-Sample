{
 "cells": [
  {
   "cell_type": "markdown",
   "metadata": {},
   "source": [
    "# Introduction to Deep Learning with PyTorch\n",
    "\n",
    "\n",
    "\n",
    "In this notebook, we will introduce you to PyTorch, a highly-regarded open-source deep learning framework developed by Facebook AI Research. Renowned for its flexibility, user-friendly nature, and dynamic computational graph, PyTorch facilitates effortless debugging and experimentation for developers working with deep learning models. For additional reading and resources, visit the official PyTorch [website](https://pytorch.org/) and the PyTorch GitHub [repository](https://github.com/pytorch/pytorch).\n",
    "\n",
    "Our exploration will begin with an examination of PyTorch's fundamental features, followed by a demonstration of how to create and manipulate Tensor objects – the core components of PyTorch. We will also cover a variety of algebraic operations, including matrix multiplication and elementwise multiplication, which play a vital role in constructing and training deep learning models. To further your understanding, consult the [PyTorch documentation](https://pytorch.org/docs/stable/index.html).\n",
    "\n",
    "Next, we will dive into one of PyTorch's most powerful features, Autodifferentiation, also known as Autograd. This remarkable capability automates the process of calculating gradients of a neural network's parameters in relation to the loss function. In conjunction with Stochastic Gradient Descent and Backpropagation, Autograd is instrumental in training large machine learning models, enabling more efficient and precise model optimization. To learn more about Autograd, explore the [PyTorch Autograd tutorial](https://pytorch.org/tutorials/beginner/blitz/autograd_tutorial.html).\n",
    "\n",
    "As we progress through this guide, we will also touch on the topic of utilizing a Graphics Processing Unit (GPU) with PyTorch. This integration can significantly accelerate the training process for large-scale models. To gain further insights into using GPUs with PyTorch, review the \"CUDA semantics\" section in the [PyTorch documentation](https://pytorch.org/docs/stable/notes/cuda.html).\n",
    "\n",
    "Without further ado, let's ignite our journey into the world of PyTorch, and remember to explore the resources provided above for an even deeper understanding."
   ]
  },
  {
   "cell_type": "markdown",
   "metadata": {},
   "source": [
    "## Installation\n",
    "\n",
    "To install PyTorch, you can use either pip or conda, depending on your preferred package manager. Before installing, it's important to determine whether you need a version that supports CPU only or one that supports both CPU and GPU (CUDA).\n",
    "\n",
    "To choose the appropriate installation command, visit the PyTorch official website's [\"Get Started\" page](https://pytorch.org/get-started/locally/). You'll find a configuration widget that lets you select your preferred package manager, OS, Python version, and CUDA version (if needed).\n",
    "\n",
    "After the installation is complete, you can verify that PyTorch has been successfully installed by running the following commands in your Python environment:"
   ]
  },
  {
   "cell_type": "code",
   "execution_count": 1,
   "metadata": {},
   "outputs": [
    {
     "name": "stdout",
     "output_type": "stream",
     "text": [
      "2.2.1+cu121\n"
     ]
    }
   ],
   "source": [
    "import torch\n",
    "print(torch.__version__)"
   ]
  },
  {
   "cell_type": "markdown",
   "metadata": {},
   "source": [
    "Let's also import other useful packages for this tutorial."
   ]
  },
  {
   "cell_type": "code",
   "execution_count": 2,
   "metadata": {},
   "outputs": [
    {
     "name": "stderr",
     "output_type": "stream",
     "text": [
      "/home/suresh/.local/lib/python3.8/site-packages/pandas/core/computation/expressions.py:20: UserWarning: Pandas requires version '2.7.3' or newer of 'numexpr' (version '2.7.1' currently installed).\n",
      "  from pandas.core.computation.check import NUMEXPR_INSTALLED\n",
      "/home/suresh/.local/lib/python3.8/site-packages/pandas/core/arrays/masked.py:64: UserWarning: Pandas requires version '1.3.2' or newer of 'bottleneck' (version '1.2.1' currently installed).\n",
      "  from pandas.core import (\n"
     ]
    }
   ],
   "source": [
    "# display matplotlib plots inline in the Jupyter notebook\n",
    "%matplotlib inline\n",
    "\n",
    "# Import necessary packages\n",
    "import torch  # deep learning library\n",
    "from torch import nn\n",
    "from torch.utils.data import DataLoader\n",
    "import numpy as np\n",
    "import matplotlib  # plotting library\n",
    "import matplotlib.pyplot as plt\n",
    "import pandas as pd  # data manipulation library\n",
    "import seaborn as sns  # data visualization library\n",
    "from cycler import cycler\n",
    "from IPython.display import Video, Image  # display videos and images in Jupyter notebook\n",
    "\n",
    "# Define the value of Pi for pytorch as it doesn't have a pre-defined value\n",
    "torch_pi = 3.1415916\n",
    "\n",
    "# -----------------------------------------------------------------------------\n",
    "# Define some properties for plotting\n",
    "import matplotlib.cm as cm\n",
    "from matplotlib import rcParams\n",
    "\n",
    "# Define a function to convert RGB values to matplotlib color\n",
    "def rgb(r, g, b):\n",
    "    return (float(r)/256., float(g)/256., float(b)/256.)\n",
    "\n",
    "# Define the color cycle for plots\n",
    "cb2 = [rgb(31, 120, 180), rgb(255, 127, 0), rgb(51, 160, 44), rgb(227, 26, 28),\n",
    "       rgb(166, 206, 227), rgb(253, 191, 111), rgb(178, 223, 138), rgb(251, 154, 153)]\n",
    "\n",
    "# Set some properties for figures and plots\n",
    "rcParams['figure.figsize'] = (9, 7)  # figure size\n",
    "rcParams['figure.dpi'] = 50  # figure resolution\n",
    "rcParams['lines.linewidth'] = 2  # line width\n",
    "rcParams['axes.prop_cycle'] = cycler('color', cb2)  # color cycle\n",
    "rcParams['axes.facecolor'] = 'white'  # background color\n",
    "rcParams['axes.grid'] = False  # display grid or not\n",
    "rcParams['patch.facecolor'] = cb2[0]  # color for patches\n",
    "rcParams['patch.edgecolor'] = 'white'  # color for patch edges\n",
    "rcParams['font.size'] = 23  # font size\n",
    "rcParams['font.weight'] = 300  # font weight"
   ]
  },
  {
   "cell_type": "markdown",
   "metadata": {},
   "source": [
    "--- \n",
    "## Tensor and PyTorch \n",
    "\n",
    "PyTorch predominantly utilizes tensors as its core data structure to encode various types of information, such as model inputs and outputs, along with model parameters. Tensors are multi-dimensional arrays that extend scalars, vectors, and matrices to encompass data in $N$-dimensions, allowing for the representation of diverse data structures from simple to highly complex forms.\n",
    "\n",
    "To clarify further:\n",
    "\n",
    "- Scalar (0-dimensional tensor): A single value, e.g., 1.0\n",
    "\n",
    "- Vector (1-dimensional tensor): A one-dimensional array, e.g.,\n",
    "$\\begin{bmatrix}\n",
    "1 \\\\\n",
    "2\n",
    "\\end{bmatrix}$\n",
    "\n",
    "- Matrix (2-dimensional tensor): A two-dimensional array, e.g.,\n",
    "$\\begin{bmatrix}\n",
    "1 & 2 & 3 \\\\\n",
    "4 & 5 & 6 \\\\\n",
    "7 & 8 & 9\n",
    "\\end{bmatrix}$\n",
    "\n",
    "- Tensor (n-dimensional tensor, $n > 2$): An N-dimensional array, e.g.,\n",
    "$\\begin{bmatrix}\n",
    "[1, 2] & [3, 4] \\\\\n",
    "[4, 5] & [6, 7]\n",
    "\\end{bmatrix}$\n",
    "\n",
    "Tensors provide a flexible way to represent data across a broad range of dimensions, making them particularly valuable in deep learning and other intricate mathematical applications."
   ]
  },
  {
   "cell_type": "markdown",
   "metadata": {},
   "source": [
    "### Pytorch and Numpy\n",
    "\n",
    "We will first explore the relationship between PyTorch and NumPy, two widely-used libraries for numerical computing in Python. While PyTorch is specifically designed for deep learning applications, NumPy is a general-purpose library for numerical operations. Despite their distinct purposes, PyTorch aims to maintain a similar API to NumPy, enabling users to transition effortlessly between the two libraries.\n",
    "\n",
    "Moreover, we will demonstrate how to convert data between PyTorch tensors and NumPy arrays, which is beneficial when working with both libraries simultaneously in your projects.\n",
    "\n",
    "It's crucial to note that when converting between PyTorch tensors and NumPy arrays, the underlying data is shared between them if the tensor is on the CPU. As a result, modifying one will impact the other. This design choice aids in conserving memory and minimizing the overhead of data copying."
   ]
  },
  {
   "cell_type": "markdown",
   "metadata": {},
   "source": [
    "### Converting a NumPy array to a PyTorch"
   ]
  },
  {
   "cell_type": "code",
   "execution_count": 3,
   "metadata": {},
   "outputs": [
    {
     "name": "stdout",
     "output_type": "stream",
     "text": [
      "Original NumPy array:\n",
      " [[1 2]\n",
      " [3 4]]\n",
      "\n",
      "PyTorch tensor from NumPy array:\n",
      " tensor([[1, 2],\n",
      "        [3, 4]])\n",
      "\n",
      "Modified NumPy array:\n",
      " [[99  2]\n",
      " [ 3  4]]\n",
      "\n",
      "PyTorch tensor after modifying NumPy array:\n",
      " tensor([[99,  2],\n",
      "        [ 3,  4]])\n"
     ]
    }
   ],
   "source": [
    "# Create a NumPy array\n",
    "numpy_array = np.array([[1, 2], [3, 4]])\n",
    "print(\"Original NumPy array:\\n\", numpy_array)\n",
    "print(\"\")\n",
    "\n",
    "# Convert NumPy array to PyTorch tensor\n",
    "tensor_from_numpy = torch.from_numpy(numpy_array)\n",
    "print(\"PyTorch tensor from NumPy array:\\n\", tensor_from_numpy)\n",
    "print(\"\")\n",
    "\n",
    "# Modify NumPy array\n",
    "numpy_array[0, 0] = 99\n",
    "print(\"Modified NumPy array:\\n\", numpy_array)\n",
    "print(\"\")\n",
    "\n",
    "# Observe the change in the PyTorch tensor\n",
    "print(\"PyTorch tensor after modifying NumPy array:\\n\", tensor_from_numpy)\n"
   ]
  },
  {
   "cell_type": "markdown",
   "metadata": {},
   "source": [
    "### Converting a PyTorch tensor to a NumPy array"
   ]
  },
  {
   "cell_type": "code",
   "execution_count": 4,
   "metadata": {},
   "outputs": [
    {
     "name": "stdout",
     "output_type": "stream",
     "text": [
      "Original PyTorch tensor:\n",
      " tensor([[1, 2],\n",
      "        [3, 4]])\n",
      "\n",
      "NumPy array from PyTorch tensor:\n",
      " [[1 2]\n",
      " [3 4]]\n",
      "\n",
      "Modified PyTorch tensor:\n",
      " tensor([[99,  2],\n",
      "        [ 3,  4]])\n",
      "\n",
      "NumPy array after modifying PyTorch tensor:\n",
      " [[99  2]\n",
      " [ 3  4]]\n",
      "\n"
     ]
    }
   ],
   "source": [
    "# Create a PyTorch tensor\n",
    "tensor = torch.tensor([[1, 2], [3, 4]])\n",
    "print(\"Original PyTorch tensor:\\n\", tensor)\n",
    "print(\"\")\n",
    "\n",
    "# Convert PyTorch tensor to NumPy array\n",
    "numpy_array_from_tensor = tensor.numpy()\n",
    "print(\"NumPy array from PyTorch tensor:\\n\", numpy_array_from_tensor)\n",
    "print(\"\")\n",
    "\n",
    "# Modify PyTorch tensor\n",
    "tensor[0, 0] = 99\n",
    "print(\"Modified PyTorch tensor:\\n\", tensor)\n",
    "print(\"\")\n",
    "\n",
    "# Observe the change in the Numpy array\n",
    "print(\"NumPy array after modifying PyTorch tensor:\\n\", numpy_array_from_tensor)\n",
    "print(\"\")\n"
   ]
  },
  {
   "cell_type": "markdown",
   "metadata": {},
   "source": [
    "---\n",
    "\n",
    "We will now delve into various PyTorch tensor operations. Many of these operations are intentionally designed to resemble their NumPy counterparts, making it easier for developers to transition between the two libraries seamlessly.\n",
    "\n",
    "### Tensor Creation"
   ]
  },
  {
   "cell_type": "code",
   "execution_count": 5,
   "metadata": {},
   "outputs": [
    {
     "name": "stdout",
     "output_type": "stream",
     "text": [
      "Random tensor:\n",
      " tensor([[0.2158, 0.8096, 0.1743],\n",
      "        [0.2995, 0.5971, 0.6132]])\n",
      "\n",
      "Ones tensor:\n",
      " tensor([[1., 1., 1.],\n",
      "        [1., 1., 1.]])\n",
      "\n",
      "Zeros tensor:\n",
      " tensor([[0., 0., 0.],\n",
      "        [0., 0., 0.]])\n",
      "\n",
      "Arange tensor:\n",
      " tensor([0, 1, 2, 3, 4])\n"
     ]
    }
   ],
   "source": [
    "# Create a random tensor of size (2, 3)\n",
    "rand_tensor = torch.rand(2, 3)\n",
    "print(\"Random tensor:\\n\", rand_tensor)\n",
    "print(\"\")\n",
    "\n",
    "# Create a tensor filled with ones, of size (2, 3)\n",
    "ones_tensor = torch.ones(2, 3)\n",
    "print(\"Ones tensor:\\n\", ones_tensor)\n",
    "print(\"\")\n",
    "\n",
    "# Create a tensor filled with zeros, of size (2, 3)\n",
    "zeros_tensor = torch.zeros(2, 3)\n",
    "print(\"Zeros tensor:\\n\", zeros_tensor)\n",
    "print(\"\")\n",
    "\n",
    "# Create a tensor with a range of values from 0 to 4\n",
    "arange_tensor = torch.arange(5)\n",
    "print(\"Arange tensor:\\n\", arange_tensor)\n"
   ]
  },
  {
   "cell_type": "markdown",
   "metadata": {},
   "source": [
    "### Concatenation"
   ]
  },
  {
   "cell_type": "code",
   "execution_count": 6,
   "metadata": {},
   "outputs": [
    {
     "name": "stdout",
     "output_type": "stream",
     "text": [
      "Concatenated tensor:\n",
      " tensor([[1, 2],\n",
      "        [3, 4],\n",
      "        [5, 6],\n",
      "        [7, 8]])\n"
     ]
    }
   ],
   "source": [
    "# Concatenate tensors along a dimension (dim=0 by default)\n",
    "tensor_a = torch.tensor([[1, 2], [3, 4]])\n",
    "tensor_b = torch.tensor([[5, 6], [7, 8]])\n",
    "concatenated_tensor = torch.cat((tensor_a, tensor_b))\n",
    "print(\"Concatenated tensor:\\n\", concatenated_tensor)"
   ]
  },
  {
   "cell_type": "markdown",
   "metadata": {},
   "source": [
    "### Reshaping"
   ]
  },
  {
   "cell_type": "code",
   "execution_count": 7,
   "metadata": {},
   "outputs": [
    {
     "name": "stdout",
     "output_type": "stream",
     "text": [
      "Transposed tensor:\n",
      " tensor([[1, 3],\n",
      "        [2, 4]])\n",
      "\n",
      "One-like tensor:\n",
      " tensor([[1, 1],\n",
      "        [1, 1]])\n"
     ]
    }
   ],
   "source": [
    "# Transpose a tensor\n",
    "transposed_tensor = tensor_a.T\n",
    "print(\"Transposed tensor:\\n\", transposed_tensor)\n",
    "print(\"\")\n",
    "\n",
    "# Create a tensor with the same shape but filled with ones\n",
    "one_like_tensor = torch.ones_like(tensor_a)\n",
    "print(\"One-like tensor:\\n\", one_like_tensor)"
   ]
  },
  {
   "cell_type": "markdown",
   "metadata": {},
   "source": [
    "### Common Mathematical Operations"
   ]
  },
  {
   "cell_type": "code",
   "execution_count": 8,
   "metadata": {},
   "outputs": [
    {
     "name": "stdout",
     "output_type": "stream",
     "text": [
      "Sum:\n",
      " tensor(10)\n",
      "\n",
      "Mean:\n",
      " tensor(2.5000)\n",
      "\n",
      "Norm:\n",
      " tensor(5.4772)\n",
      "\n",
      "Absolute values:\n",
      " tensor([[0, 1],\n",
      "        [2, 3]])\n"
     ]
    }
   ],
   "source": [
    "# Calculate the sum of a tensor's elements\n",
    "sum_result = torch.sum(tensor_a)\n",
    "print(\"Sum:\\n\", sum_result)\n",
    "print(\"\")\n",
    "\n",
    "# Calculate the mean of a tensor's elements\n",
    "mean_result = torch.mean(tensor_a.float())  # Requires float tensor\n",
    "print(\"Mean:\\n\", mean_result)\n",
    "print(\"\")\n",
    "\n",
    "# Calculate the L2-norm of a tensor\n",
    "norm_result = torch.norm(tensor_a.float())  # Requires float tensor\n",
    "print(\"Norm:\\n\", norm_result)\n",
    "print(\"\")\n",
    "\n",
    "# Calculate the absolute values of a tensor\n",
    "abs_result = torch.abs(tensor_b - 5)\n",
    "print(\"Absolute values:\\n\", abs_result)\n"
   ]
  },
  {
   "cell_type": "markdown",
   "metadata": {},
   "source": [
    "### Matrix Operations"
   ]
  },
  {
   "cell_type": "code",
   "execution_count": 9,
   "metadata": {},
   "outputs": [
    {
     "name": "stdout",
     "output_type": "stream",
     "text": [
      "Addition:\n",
      " tensor([5, 7, 9])\n",
      "\n",
      "Subtraction:\n",
      " tensor([-3, -3, -3])\n",
      "\n",
      "Multiplication:\n",
      " tensor([ 4, 10, 18])\n",
      "\n",
      "Division:\n",
      " tensor([0.2500, 0.4000, 0.5000])\n",
      "\n",
      "Matrix multiplication:\n",
      " tensor([[19, 22],\n",
      "        [43, 50]])\n",
      "\n",
      "Dot product:\n",
      " tensor(32)\n"
     ]
    }
   ],
   "source": [
    "# Tensors\n",
    "tensor_a = torch.tensor([1, 2, 3])\n",
    "tensor_b = torch.tensor([4, 5, 6])\n",
    "\n",
    "# Element-wise addition\n",
    "add_result = tensor_a + tensor_b\n",
    "\n",
    "# Element-wise subtraction\n",
    "sub_result = tensor_a - tensor_b\n",
    "\n",
    "# Element-wise multiplication\n",
    "mul_result = tensor_a * tensor_b\n",
    "\n",
    "# Element-wise division\n",
    "div_result = tensor_a / tensor_b\n",
    "\n",
    "# Print element-wise results\n",
    "print(\"Addition:\\n\", add_result)\n",
    "print(\"\")\n",
    "\n",
    "print(\"Subtraction:\\n\", sub_result)\n",
    "print(\"\")\n",
    "\n",
    "print(\"Multiplication:\\n\", mul_result)\n",
    "print(\"\")\n",
    "\n",
    "print(\"Division:\\n\", div_result)\n",
    "print(\"\")\n",
    "\n",
    "# Matrix multiplication\n",
    "mat_a = torch.tensor([[1, 2], [3, 4]])\n",
    "mat_b = torch.tensor([[5, 6], [7, 8]])\n",
    "matmul_result = mat_a@mat_b\n",
    "print(\"Matrix multiplication:\\n\", matmul_result)\n",
    "print(\"\")\n",
    "\n",
    "# Dot product\n",
    "dot_result = torch.dot(tensor_a, tensor_b)\n",
    "print(\"Dot product:\\n\", dot_result)\n"
   ]
  },
  {
   "cell_type": "markdown",
   "metadata": {},
   "source": [
    "--- \n",
    "\n",
    "## Data Types in PyTorch\n",
    "\n",
    "In this section of the tutorial, we will concentrate on the two main floating-point data types available in PyTorch: 32-bit floats (float32) and 64-bit floats (float64). Gaining a solid understanding of these data types and their characteristics is vital when working with tensors effectively, particularly when harnessing the power of GPU capabilities.\n",
    "\n",
    "Float32, or single-precision floating-point numbers, are the most widely used data type in PyTorch for representing real numbers with decimal points. They strike a good balance between precision and memory consumption, making them suitable for the majority of deep learning applications. Most GPUs natively support float32, resulting in quicker computation. However, float32's precision is limited compared to float64, which may lead to numerical issues in certain situations.\n",
    "\n",
    "Float64, or double-precision floating-point numbers, provide a higher level of precision than float32. However, this increased precision comes at the expense of greater memory consumption and slower computation, particularly on GPUs.\n",
    "\n",
    "GPUs are optimized for parallel processing, which is highly advantageous for deep learning applications. Native GPU support for float32 is standard because it offers an optimal balance between precision and memory usage. Consequently, most deep learning frameworks, including PyTorch, default to using float32 for tensor operations, especially when executed on GPUs. This approach enables faster training and inference times while maintaining sufficient precision for the majority of use cases.\n",
    "\n",
    "To specify the data type of a tensor, you can use the dtype argument when creating the tensor:"
   ]
  },
  {
   "cell_type": "code",
   "execution_count": 10,
   "metadata": {},
   "outputs": [
    {
     "name": "stdout",
     "output_type": "stream",
     "text": [
      "torch.float32\n",
      "torch.float64\n"
     ]
    }
   ],
   "source": [
    "# Create a float32 tensor\n",
    "float32_tensor = torch.tensor([1.0, 2.0, 3.0], dtype=torch.float32)\n",
    "print(float32_tensor.dtype)\n",
    "\n",
    "# Create a float64 tensor\n",
    "float64_tensor = torch.tensor([1.0, 2.0, 3.0], dtype=torch.float64)\n",
    "print(float64_tensor.dtype)"
   ]
  },
  {
   "cell_type": "markdown",
   "metadata": {},
   "source": [
    "Understanding the various data types in PyTorch and their implications for computation and memory usage is crucial for building efficient deep learning models and leveraging GPU capabilities to their fullest extent.\n",
    "\n",
    "---"
   ]
  },
  {
   "cell_type": "markdown",
   "metadata": {},
   "source": [
    "## GPU Optimisation\n",
    "\n",
    "In this section, we will explore how to utilize GPUs in PyTorch, specifically in the context of Google Colab. Google Colab provides free access to a GPU for accelerating deep learning tasks. We will discuss how to check if a GPU is being used, and how to transfer data between CPU and GPU memory.\n",
    "\n",
    "Google Colab provides an environment where you can easily enable GPU support for your deep learning projects. To do this, navigate to the \"Runtime\" menu, select \"Change runtime type,\" and choose \"GPU\" as the hardware accelerator. With this setup, you can leverage the power of GPUs for your PyTorch projects. You will also see below that we will refer GPU as CUDA.\n",
    "\n",
    "CUDA (Compute Unified Device Architecture) is a parallel computing platform and programming model developed by NVIDIA for general-purpose computing on GPUs (Graphics Processing Units). CUDA allows developers to write programs that can take advantage of the massive parallel processing power of NVIDIA GPUs, which are particularly well-suited for tasks that involve a high degree of parallelism, such as deep learning and other scientific computations.\n",
    "\n",
    "In the context of deep learning, CUDA plays a significant role in speeding up the training and inference processes by utilizing the parallel processing capabilities of NVIDIA GPUs. These GPUs are designed to handle thousands of lightweight threads simultaneously, which is a key factor in the efficient execution of deep learning algorithms that involve large amounts of matrix and tensor operations.\n",
    "\n",
    "To use CUDA in deep learning frameworks like PyTorch, NVIDIA also provides cuDNN (CUDA Deep Neural Network library), which is a GPU-accelerated library for deep learning primitives. cuDNN optimizes the performance of standard deep learning routines, such as forward and backward propagation, convolution, pooling, normalization, and activation layers. All these are automatically included when you run Pytorch on GPU.\n",
    "\n",
    "To check if a GPU is being used by PyTorch, you can use the torch.cuda module. This module provides a simple way to interact with the GPU and perform various operations. The following code demonstrates how to check for GPU availability and display GPU information:"
   ]
  },
  {
   "cell_type": "code",
   "execution_count": 11,
   "metadata": {},
   "outputs": [
    {
     "name": "stdout",
     "output_type": "stream",
     "text": [
      "Using device: cpu\n",
      "\n",
      "No GPU available, using CPU instead.\n"
     ]
    }
   ],
   "source": [
    "# Check if a GPU is available and set the device accordingly\n",
    "device = torch.device('cuda' if torch.cuda.is_available() else 'cpu')\n",
    "print('Using device:', device)  # Print the device being used\n",
    "print()\n",
    "\n",
    "# Additional Info when using CUDA (GPU)\n",
    "if device.type == 'cuda':  # If a GPU is being used\n",
    "    print(torch.cuda.get_device_name(0))  # Print the GPU name\n",
    "\n",
    "    print(\"Memory Usage:\")  # Print memory usage information\n",
    "\n",
    "    # Calculate and print the allocated GPU memory in GB\n",
    "    print(\"Allocated:\", round(torch.cuda.memory_allocated(0)/1024**3,1), 'GB')\n",
    "    \n",
    "    # Calculate and print the cached (reserved) GPU memory in GB\n",
    "    print(\"Cached:\", round(torch.cuda.memory_reserved(0)/1024**3,1), 'GB')\n",
    "else:\n",
    "    # If no GPU is available, inform the user that the CPU is being used\n",
    "    print(\"No GPU available, using CPU instead.\")\n"
   ]
  },
  {
   "cell_type": "markdown",
   "metadata": {},
   "source": [
    "In the code above, 1024**3 is used to convert the memory usage values from bytes to gigabytes.\n",
    "\n",
    "To move data from CPU memory to GPU memory, you can use the `to()` method or the `cuda()` method of a tensor. It is crucial to move both your model and the data to the GPU to fully benefit from GPU acceleration. The following code demonstrates how to move a tensor to the GPU.\n",
    "\n",
    "You can check if a tensor is on the GPU by using the `is_cuda` attribute of the tensor. The is_cuda attribute returns a boolean value, indicating whether the tensor is stored in GPU memory or not. Here's an example:\n"
   ]
  },
  {
   "cell_type": "code",
   "execution_count": 12,
   "metadata": {},
   "outputs": [
    {
     "name": "stdout",
     "output_type": "stream",
     "text": [
      "Is tensor on GPU (CPU tensor)? False\n",
      "Is tensor on GPU (GPU tensor)? False\n"
     ]
    }
   ],
   "source": [
    "# Create a tensor in CPU memory\n",
    "tensor_cpu = torch.zeros((10, 10))\n",
    "\n",
    "# Check if tensor is on GPU\n",
    "print(\"Is tensor on GPU (CPU tensor)?\", tensor_cpu.is_cuda)\n",
    "\n",
    "# Move the tensor to GPU memory\n",
    "device = torch.device('cuda' if torch.cuda.is_available() else 'cpu')\n",
    "tensor_gpu = tensor_cpu.to(device)\n",
    "\n",
    "# Check if tensor is on GPU (after moving it to GPU memory)\n",
    "print(\"Is tensor on GPU (GPU tensor)?\", tensor_gpu.is_cuda)\n"
   ]
  },
  {
   "cell_type": "markdown",
   "metadata": {},
   "source": [
    "Keep in mind that you should move both your model and the data to the GPU before performing any operations on them.\n",
    "\n",
    "By understanding how to utilize GPUs in PyTorch, especially in the context of Google Colab, you can accelerate your deep learning projects and optimize your models' performance.\n",
    "\n",
    "---"
   ]
  },
  {
   "cell_type": "markdown",
   "metadata": {},
   "source": [
    "## On Optimization and Gradient Descent\n",
    "\n",
    "Now, we delve into the core concept that underlies stochastic gradient descent (SGD), a widely employed optimization technique for training large-scale machine learning models. Our exploration begins with an overview of Gradient Descent, which lays the foundation for understanding the advantages of SGD in managing the training of massive architectures. \n",
    "\n",
    "Subsequently, we shift our attention to the autodifferentiation and backpropagation algorithm, an essential mechanism that empowers neural networks to learn effectively.\n",
    "\n",
    "Let us start with a very simple example of trying to find the minimum of the function\n",
    "$f: \\mathbb{R} \\rightarrow \\mathbb{R}$, where:\n",
    "$$\n",
    "f(x) = x^2\n",
    "$$"
   ]
  },
  {
   "cell_type": "code",
   "execution_count": 13,
   "metadata": {},
   "outputs": [
    {
     "data": {
      "image/png": "[encoded data removed]",
      "text/plain": [
       "<Figure size 450x350 with 1 Axes>"
      ]
     },
     "metadata": {},
     "output_type": "display_data"
    }
   ],
   "source": [
    "import matplotlib.pyplot as plt\n",
    "def f(x):  # Objective function\n",
    "    return x ** 2\n",
    "\n",
    "x = np.arange(-10, 10, 0.1)\n",
    "\n",
    "plt.plot(x, f(x))\n",
    "plt.xlabel('x')\n",
    "plt.ylabel('f(x)')\n",
    "plt.show()\n"
   ]
  },
  {
   "cell_type": "markdown",
   "metadata": {},
   "source": [
    "In general, finding the local minima of more complicated functions, especially in the multivariate case, can be quite challenging. Fortunately, numerical methods such as the classical and powerful gradient descent come to our aid, forming the foundation for highly effective optimization algorithms that help manage the training of large-scale deep learning models.\n",
    "\n",
    "In essence, gradient descent enables us to find the minimum of a function by descending the slope and making meaningful moves in the direction of steepest descent, which is given by the negative of the gradient, until this process converges. Intuitively, when you no longer make significant progress with each new step, within a certain sensitivity, you have reached the minimum.\n",
    "\n",
    "Gradient descent consists of three main components:\n",
    "\n",
    "- Initializing a value for our parameters.\n",
    "\n",
    "- Updating our parameters in the opposite direction of the gradient with the learning rate determining the size of the jump. \n",
    "\n",
    "- Continuing to jump for a pre-defined number of steps, as gradient descent is guaranteed to converge to the global minimum for convex surfaces and to a local minimum for non-convex surfaces.\n",
    "\n",
    "Formally, we can express gradient descent (GD) as:\n",
    "\n",
    "$$\n",
    "x_{k+1} = x_k - \\eta_{k} \\nabla f(\\mathbf{x}),\n",
    "$$\n",
    "\n",
    "Here, $\\eta$ represents the learning rate, which can be fixed or dynamic (i.e., changing at each step), denoted by $\\eta_{k}$."
   ]
  },
  {
   "cell_type": "markdown",
   "metadata": {},
   "source": [
    "Let's now implement the 1D case for our simple yet elegant function, $f(x) = x^2$. In this case, we know analytically that the gradient $f'(x) = 2x$"
   ]
  },
  {
   "cell_type": "code",
   "execution_count": 14,
   "metadata": {},
   "outputs": [
    {
     "name": "stdout",
     "output_type": "stream",
     "text": [
      "epoch k = 0, x: 6.000000\n",
      "epoch k = 10, x: 0.036280\n",
      "epoch k = 20, x: 0.000219\n",
      "epoch k = 30, x: 0.000001\n",
      "epoch k = 40, x: 0.000000\n",
      "epoch k = 50, x: 0.000000\n",
      "epoch k = 60, x: 0.000000\n",
      "epoch k = 70, x: 0.000000\n",
      "epoch k = 80, x: 0.000000\n",
      "epoch k = 90, x: 0.000000\n"
     ]
    }
   ],
   "source": [
    "def f_grad(x):  \n",
    "    # Gradient (derivative) of the objective function\n",
    "    return 2 * x \n",
    "\n",
    "def lr(k):\n",
    "    # Function that returns the learning rate at iteration k\n",
    "    return 0.2\n",
    "\n",
    "def gd(f_grad):\n",
    "    # Gradient descent function\n",
    "    max_iter = 100\n",
    "    x = 10.0\n",
    "    results = [x]\n",
    "    \n",
    "    for k in range(0, max_iter):\n",
    "        # Compute gradient at current point\n",
    "        g = f_grad(x) \n",
    "        \n",
    "        # Compute learning rate at current iteration\n",
    "        eta = lr(k)\n",
    "        \n",
    "        # Perform update using gradient and learning rate\n",
    "        x = x - eta * g \n",
    "        \n",
    "        # Store updated point\n",
    "        results.append(float(x))\n",
    "        \n",
    "        # Print iteration information\n",
    "        if k % 10 == 0:\n",
    "            print(f'epoch k = {k:.0f}, x: {x:f}')\n",
    "        \n",
    "    return results\n",
    "\n",
    "# Call the gradient descent function with the objective function's gradient\n",
    "results = gd(f_grad)\n"
   ]
  },
  {
   "cell_type": "markdown",
   "metadata": {},
   "source": [
    "Most machine learning tasks are reminiscent to the simple example above, where we aim to minimize a cost function (or a loss function) that represents the difference between the predicted output $f(x_i; \\theta)$ and the actual output $y_i$, where $x_i$ are the input data (e.g., images) and $\\theta$ are the model parameters we aim to optimize. The loss function $L(\\theta)$ is defined as:\n",
    "\n",
    "$$\n",
    "L(\\theta) = \\dfrac{1}{n} \\sum_{i=1}^n \\ell(y_i, f(x_i; \\theta))\n",
    "$$\n",
    "\n",
    "where $n$ is the number of training samples, $y_i$ is the true output for input $x_i$, and $f(x_i; \\theta)$ is the predicted output for input $x_i$ using the current model parameters $\\theta$. The goal of the optimization algorithm is to find the optimal set of parameters $\\theta$ that minimizes the loss function $L(\\theta)$. Since we have multiple data entries, the total \"best\" gradient would be the average of the gradients over all the data entries.\n",
    "\n",
    "### Stochastic Gradient Descent\n",
    "\n",
    "However, if the number of training samples $n$ is very large (e.g., a billion data points), computing the gradient of the loss function for all training samples at once can be computationally expensive. This is where stochastic gradient descent (SGD) comes in.\n",
    "\n",
    "The main idea of SGD is to use a subset of the training samples to compute an approximation of the gradient of the loss function at each iteration. Specifically, at each iteration $k$, we randomly select a small subset of training samples (usually referred to as a \"mini-batch\") and use these samples to compute an approximation of the gradient of the loss function. The mini-batch gradient is then used to update the model parameters as follows:\n",
    "\n",
    "$$\n",
    "\\theta_{k+1} = \\theta_k - \\eta_k \\nabla L(\\theta_k; x_{i:i+b-1}, y_{i:i+b-1})\n",
    "$$\n",
    "\n",
    "where $b$ is the mini-batch size, $\\eta_k$ is the learning rate at iteration $k$, and $\\nabla L(\\theta_k; x_{i:i+b-1}, y_{i:i+b-1})$ is the gradient of the loss function with respect to the model parameters $\\theta_k$ computed using the mini-batch of training samples $(x_{i:i+b-1}, y_{i:i+b-1})$.\n",
    "\n",
    "The main advantage of SGD over gradient descent (GD) is that it requires less memory and computational resources, making it more suitable for large-scale machine learning problems. However, SGD also has some disadvantages. Since the mini-batches are selected randomly, the stochasticity of the algorithm can result in high variance and slow convergence of the optimization process. Also, the learning rate $\\eta_k$ needs to be carefully tuned to ensure convergence of the algorithm."
   ]
  },
  {
   "cell_type": "markdown",
   "metadata": {},
   "source": [
    "### Autodifferentiation\n",
    "\n",
    "While optimizing a machine learning model (which we will see more advanced examples of in notebook 2-4) might seem conceptually simple, i.e., we can simply perform gradient descent by differentiating the loss function $L(\\theta)$ to find the best model that fits the data, the main challenge here is how we can calculate the gradient. In the simple example $f(x) = x^2$ above, this is straightforward, because we know the analytic closed form of the differentiation. However, for a very complex neural network (i.e., a very complicated function), analytically writing down the analytic gradient can be very difficult. And this is where modern machine learning frameworks such as PyTorch, TensorFlow, and JAX come to the rescue.\n",
    "\n",
    "The central component of any machine learning framework is what we call autodifferentiation, which is performed through the backpropagation algorithm. At its core, backpropagation is based on the chain rule of differentiation, which allows us to compute the derivative of a function composed of simpler functions. This makes differentiation a simpler process compared to integration, which is why backpropagation is an effective method for optimizing deep neural networks.\n",
    "\n",
    "But before we dive deeper into backpropagation, let's discuss the different methods of differentiation.\n",
    "\n",
    "There are three common methods to perform differentiation: **finite differences**, **symbolic differentiation**, and **autodifferentiation**.\n",
    "\n",
    "Finite difference is a numerical method of approximating the derivative of a function by calculating the difference between function values at two nearby points. Although simple to implement, it can be computationally expensive and imprecise, especially for high-dimensional functions. The computational complexity of this method is proportional to the number of dimensions squared.\n",
    "\n",
    "Symbolic differentiation, on the other hand, involves deriving the mathematical formula for the derivative of a function using algebraic manipulation of the function's equation, such as the one implemented in Mathematica. This method is precise and exact, but it can be complex and time-consuming, especially for functions with many variables or complex expressions. Symbolic differentiation has a fixed computational complexity that depends on the complexity of the function being differentiated.\n",
    "\n",
    "In contrast to finite differences and symbolic differentiation, **autodifferentiation** is a powerful technique that enables us to compute gradients automatically, without having to manually derive and implement the gradients. In other words, we can focus on specifying the structure of the neural network and defining the loss function, and the framework takes care of the differentiation for us. This greatly simplifies the process of designing and training deep neural networks, and allows us to experiment with more complex architectures and loss functions.\n",
    "\n",
    "Another advantage of autodifferentiation is that it allows us to compute gradients efficiently, which is crucial for large-scale machine learning problems. In addition, many frameworks provide support for distributed training, which allows us to train deep neural networks on clusters of GPUs or TPUs, further accelerating the training process.\n",
    "\n",
    "One downside of autodifferentiation is that it is completely numerical, and hence it would not yield any analytic closed form. However, for most cases in machine learning, where the goal is to numerically update the model parameters, this limitation is not critical.\n",
    "\n",
    "---"
   ]
  },
  {
   "cell_type": "markdown",
   "metadata": {},
   "source": [
    "## Backpropagation and Chain Rule\n",
    "\n",
    "To understand how backpropagation works, let's consider a slightly more nontrivial example where input vector $x$ and produces an output $h$ using a linear transformation followed by a sigmoid activation function:\n",
    "\n",
    "$$\n",
    "z = Wx + b,\n",
    "$$\n",
    "\n",
    "$$\n",
    "h = \\sigma(z) = \\dfrac{1}{1+e^{-z}},\n",
    "$$\n",
    "\n",
    "where $W$ is a weight matrix, $b$ is a bias vector, and $\\sigma$ is the sigmoid function.\n",
    "\n",
    "Our goal is to optimize the parameters $W$ and $b$ to best fit the data. Given a single data point $(x,y)$, we use the mean squared error (MSE) loss function:\n",
    "\n",
    "$$\n",
    "\\ell(W,b|x,y) = (y - \\sigma(Wx + b))^2.\n",
    "$$\n",
    "\n",
    "Our aim is to calculate the gradients of the loss function with respect to the parameters $W$ and $b$, which will allow us to update the parameters using gradient descent.\n",
    "\n",
    "The chain rule states that if we have a function $\\ell$ that is composed of several simpler functions then the derivative of $\\ell$ with respect to $W$ is given by the product of the derivatives of the simpler functions with respect to $W$. In other words,\n",
    "\n",
    "$$\n",
    "\\dfrac{\\partial \\ell}{\\partial W} = \\dfrac{\\partial \\ell}{\\partial h} \\dfrac{\\partial h}{\\partial z} \\dfrac{\\partial z}{\\partial W},\n",
    "$$\n",
    "\n",
    "and\n",
    "\n",
    "$$\n",
    "\\dfrac{\\partial \\ell}{\\partial b} = \\dfrac{\\partial \\ell}{\\partial h} \\dfrac{\\partial h}{\\partial z} \\dfrac{\\partial z}{\\partial b},\n",
    "$$\n",
    "\n",
    "where $\\dfrac{\\partial h}{\\partial z}$ is the differentiation of the sigmoid function\n",
    "\n",
    "$$\n",
    "\\dfrac{\\partial h}{\\partial z}  = \\dfrac{\\partial \\sigma}{\\partial z} = \\sigma(z)(1-\\sigma(z)),\n",
    "$$\n",
    "\n",
    "and $\\dfrac{\\partial z}{\\partial W} = x$, $\\dfrac{\\partial z}{\\partial b} = 1$, and\n",
    "\n",
    "$$\n",
    "\\dfrac{\\partial \\ell}{\\partial h} = 2 (y - h).\n",
    "$$\n",
    "\n",
    "While all these calculations might seem straightforward, what PyTorch does implicitly is that it calculates the loss for all input pairs $\\{x_i,y_i\\}$ in batch, and therefore is able to calculate the gradients in parallel and take the mean of a batch of inputs, which is critical for stochastic gradient descent. \n",
    "\n",
    "### Forward and Backward Passing\n",
    "\n",
    "It is worth noting that the term $\\dfrac{\\partial \\ell}{\\partial h}$ can be shared for the calculation of $\\dfrac{\\partial \\ell}{\\partial W}$ and $\\dfrac{\\partial \\ell}{\\partial b}$. Therefore, if we are smart algorithmically, we need only calculate this term once and reuse it. This leads to the first key concept of autodiff, which is known as dynamic programming, i.e., we algorithmically collect all the terms that is needed to calculate both the outputs and all the intermediate differentiations. And this is done with a \"forward pass\" to calculate the output, and then a \"backward pass\" to collect all the intermediate differentiations.\n",
    "\n",
    "Algorithmically, for the forward passing: \n",
    "\n",
    "- Initialize the weights and biases $W$ and $b$.\n",
    "\n",
    "- Pass the input $x$ through the linear transformation $Wx + b$ to obtain $z = W x + b$.\n",
    "\n",
    "- Apply the sigmoid activation function to $z$ to obtain the output $h = \\sigma(z)$.\n",
    "\n",
    "- Calculate the loss $\\ell$.\n",
    "\n",
    "Now, let's move on to the backward pass:\n",
    "\n",
    "- Calculate the derivative of the loss function $\\ell$ with respect to the output $h$: $\\dfrac{\\partial \\ell}{\\partial h} = 2 (y - h)$.\n",
    "\n",
    "- Calculate the derivative of $h$ with respect to $z$: $\\dfrac{\\partial h}{\\partial z} = \\sigma(z)(1-\\sigma(z))$.\n",
    "\n",
    "- Calculate the derivative of the loss function with respect to $z$: $\\dfrac{\\partial \\ell}{\\partial z} = \\dfrac{\\partial \\ell}{\\partial h} \\dfrac{\\partial h}{\\partial z}$.\n",
    "\n",
    "- Calculate the derivative of $z$ with respect to $W$: $\\dfrac{\\partial z}{\\partial W} = x$.\n",
    "\n",
    "- Calculate the derivative of $z$ with respect to $b$: $\\dfrac{\\partial z}{\\partial b} = 1$.\n",
    "\n",
    "- Calculate the derivative of the loss function with respect to $W$: $\\dfrac{\\partial \\ell}{\\partial W} = \\dfrac{\\partial \\ell}{\\partial z} \\dfrac{\\partial z}{\\partial W}$.\n",
    "\n",
    "- Calculate the derivative of the loss function with respect to $b$: $\\dfrac{\\partial \\ell}{\\partial b} = \\dfrac{\\partial \\ell}{\\partial z} \\dfrac{\\partial z}{\\partial b}$.\n",
    "\n",
    "During the forward pass, PyTorch builds a computation graph by tracking all the operations performed on the input data. Each node in the graph represents a tensor, and each edge represents an operation that transforms one tensor into another. The computation graph is then used during the backward pass to compute gradients of the loss function with respect to the input tensors.\n",
    "\n",
    "During the backward pass, PyTorch first sets the gradient of the loss function with respect to the final output tensor to 1. Then, starting from the final output tensor, PyTorch uses the computation graph to compute the gradients of the loss function with respect to all the input tensors. This is done by applying the chain rule of differentiation to each operation in the computation graph.\n",
    "\n",
    "For example, consider the computation graph for the simple example of backpropagation we have been discussing. The computation graph would look be:\n",
    "\n",
    "$$\n",
    "x \\overset{(W,b)}{\\longrightarrow} z \\rightarrow h \\rightarrow \\ell\n",
    "$$\n",
    "\n",
    "where each arrow represents an operation, and the direction of the arrow indicates the flow of data.\n",
    "\n",
    "And for the backward pass, propagate from the end point back to the original leaf to avoid any redundant calculation of intermediate differentiations and ensure that all the input needed in the intermediate steps have been calculated.\n",
    "$$\n",
    "1 \\rightarrow \\dfrac{\\partial \\ell}{\\partial h} \\rightarrow \\dfrac{\\partial \\ell}{\\partial z} \\rightarrow \\bigg(\\dfrac{\\partial \\ell}{\\partial W}, \\dfrac{\\partial \\ell}{\\partial b} \\bigg)\n",
    "$$\n",
    "\n",
    "Once we have calculated the gradients, we can update the parameters using gradient descent, taking the mean gradient of the individual batches.\n",
    "\n",
    "### Other Advantages of Backpropagation\n",
    "\n",
    "In addition to its memory-efficient dynamic programming capabilities, collecting gradients through backpropagation has two more advantages. Firstly, backpropagation works for any parameter, even if they are in the middle of the computational graph. In the example discussed earlier, the parameters $W$ and $b$ are leaf nodes, which are at the entry point of the entire computational graph. However, in more complex neural networks, parameters can be located anywhere in the graph, and backpropagation can still be used to compute their gradients.\n",
    "\n",
    "Secondly, the gradient Jacobian matrix tends to have a lower dimension at the output layer, where the loss function is a scalar value. This makes the backpropagation algorithm more efficient as it avoids massive matrix multiplication. However, the dimensions of the individual Jacobian matrices and the computational complexity of backpropagation can vary depending on the complexity of the neural network being used.\n",
    "\n",
    "It is important to note that backpropagation is not limited to the simple example discussed earlier. It can be applied to neural networks with any number of layers and any activation functions. The only difference is that the computation graph becomes more complex, with more nodes and edges, and the chain rule of differentiation needs to be applied recursively to each node in the graph. With the help of modern machine learning frameworks such as PyTorch, TensorFlow, and JAX, backpropagation has become a powerful tool for optimizing deep neural networks.\n",
    "\n",
    "---"
   ]
  },
  {
   "cell_type": "markdown",
   "metadata": {},
   "source": [
    "## Implementation in Pytorch\n",
    "\n",
    "Backpropagation is a powerful technique that allows us to compute gradients of complex functions automatically, without having to manually derive and implement the gradients. As long as the operators in the function are all analytic and differentiable, we can in principle calculate the gradients of arbitrary complex functions using backpropagation.\n",
    "\n",
    "To demonstrate how backpropagation works in practice, let's revisit the simple example of $f(x) = x^2$. We want to compute the gradient of this function with respect to the input x, which is simply $f'(x) = 2x$. We can implement this function in PyTorch as follows:"
   ]
  },
  {
   "cell_type": "code",
   "execution_count": 15,
   "metadata": {},
   "outputs": [
    {
     "name": "stdout",
     "output_type": "stream",
     "text": [
      "tensor([4.])\n"
     ]
    }
   ],
   "source": [
    "def f(x):\n",
    "    # Define function\n",
    "    return x**2\n",
    "\n",
    "x = torch.tensor([2.0], requires_grad=True) # Define input variable\n",
    "y = f(x) # Compute function value\n",
    "y.backward() # Compute gradients with respect to x\n",
    "\n",
    "print(x.grad) # Output gradient"
   ]
  },
  {
   "cell_type": "markdown",
   "metadata": {},
   "source": [
    "In the code, the input variable $x$ is defined as a PyTorch tensor with `requires_grad=True`. The `requires_grad` attribute of the tensor indicates that we want to compute gradients with respect to $x$. The function $f(x)$ is defined as $x^2$, and the value of the function at $x$ is computed using $y = f(x)$.\n",
    "\n",
    "The `backward()` method is then called on $y$ to compute the gradient of $y$ with respect to $x$. Backpropagation is automatically performed by PyTorch, and the gradient is computed using the chain rule of differentiation. Although for this simple function, the chain rule is not needed.\n",
    "\n",
    "Once we have the gradient, we can use it to find the minimal point of the function. This is typically done using an optimization algorithm such as gradient descent. In gradient descent, the gradient is used to update the value of $x$ in the direction that minimizes the function. The `lr` variable in the previous code snippet corresponds to the learning rate of the gradient descent algorithm, which determines the step size of each update."
   ]
  },
  {
   "cell_type": "code",
   "execution_count": 16,
   "metadata": {},
   "outputs": [
    {
     "name": "stdout",
     "output_type": "stream",
     "text": [
      "epoch k = 0, x: 6.000000\n",
      "epoch k = 10, x: 0.036280\n",
      "epoch k = 20, x: 0.000219\n",
      "epoch k = 30, x: 0.000001\n",
      "epoch k = 40, x: 0.000000\n",
      "epoch k = 50, x: 0.000000\n",
      "epoch k = 60, x: 0.000000\n",
      "epoch k = 70, x: 0.000000\n",
      "epoch k = 80, x: 0.000000\n",
      "epoch k = 90, x: 0.000000\n"
     ]
    }
   ],
   "source": [
    "# Objective function we want to minimize\n",
    "def objective_function(x):\n",
    "    return x**2\n",
    "\n",
    "# Gradient descent function using PyTorch\n",
    "def gd_pytorch(objective_function, lr=0.2, max_iter=100):\n",
    "    \n",
    "    # Initialize x\n",
    "    x = torch.tensor([10.0], requires_grad=True)\n",
    "    results = [x.item()]\n",
    "    \n",
    "    for k in range(max_iter):\n",
    "        \n",
    "        # Compute objective function at current point\n",
    "        f = objective_function(x)\n",
    "        \n",
    "        # Compute gradient of objective function with respect to x\n",
    "        f.backward()\n",
    "        \n",
    "        # Perform update using gradient and learning rate\n",
    "        with torch.no_grad():\n",
    "            x -= lr * x.grad\n",
    "        \n",
    "        # Clear gradient for next iteration\n",
    "        x.grad.zero_()\n",
    "        \n",
    "        # Store updated point\n",
    "        results.append(x.item())\n",
    "        \n",
    "        # Print iteration information\n",
    "        if k % 10 == 0:\n",
    "            print(f'epoch k = {k:.0f}, x: {x.item():f}')\n",
    "        \n",
    "    return results\n",
    "\n",
    "# Call the gradient descent function with the objective function\n",
    "results = gd_pytorch(objective_function)"
   ]
  },
  {
   "cell_type": "markdown",
   "metadata": {},
   "source": [
    "We indeed find the minimal point at $x=0$.\n",
    "\n",
    "In the loop, compute the objective function at the current point, then use `backward()` method to compute the gradient of the objective function with respect to $x$. Perform the update using the computed gradient and learning rate inside the `torch.no_grad()` context manager to avoid building a computation graph during the update. Clear the gradient for the next iteration using `x.grad.zero_()`.\n",
    "\n",
    "In PyTorch, when we perform an operation on a tensor, PyTorch keeps track of the computation graph that was used to compute the output tensor. This graph is then used during the backward pass to compute the gradients of the output tensor with respect to the input tensors.\n",
    "\n",
    "However, sometimes we want to perform operations that should not be tracked by the computation graph, such as when we are updating the parameters of a model during training. This is where the `torch.no_grad()` context manager comes in handy.\n",
    "\n",
    "When we wrap a block of code with `torch.no_grad()`, any operations that are performed within that block are not tracked by the computation graph. This is useful when we want to compute the output of a model without updating its parameters. In the context of the gradient descent algorithm, we want to update the value of the input tensor without building a computation graph for the update operation, so we wrap the update operation with `torch.no_grad()`.\n",
    "\n",
    "Similarly, in the line `x.grad.zero_()`, we are zeroing out the gradients of the input tensor $x$. This is necessary because PyTorch accumulates gradients by default, meaning that if we call `backward()` multiple times on the same tensor, the gradients will be accumulated. This is useful in some cases, but in our case, we want to compute the gradient of the objective function with respect to the input tensor for each iteration of the gradient descent algorithm, so we need to zero out the gradient at the beginning of each iteration using `x.grad.zero_()`. This ensures that the gradient computed in the previous iteration does not affect the gradient computed in the current iteration.\n",
    "\n",
    "---"
   ]
  },
  {
   "cell_type": "markdown",
   "metadata": {},
   "source": [
    "## A Slightly More Complicated Example\n",
    "\n",
    "Let's try to go beyond this simple example and let's fit the sigmoid function as we discussed above. First, we'll generate a mock dataset with `torch.randn` for the input $x$ and compute the corresponding output $y$ using the sigmoid function. We'll also add some noise to $y$ to make the problem more interesting."
   ]
  },
  {
   "cell_type": "code",
   "execution_count": 17,
   "metadata": {},
   "outputs": [
    {
     "data": {
      "image/png": "[encoded data removed]",
      "text/plain": [
       "<Figure size 450x350 with 1 Axes>"
      ]
     },
     "metadata": {},
     "output_type": "display_data"
    }
   ],
   "source": [
    "# Generate mock dataset\n",
    "n = 100\n",
    "x = torch.randn(n, 1)\n",
    "y = torch.sigmoid(3*x - 1 + 0.5*torch.randn(n, 1))\n",
    "plt.scatter(x, y)\n",
    "plt.xlabel('x')\n",
    "plt.ylabel('y')\n",
    "plt.show()"
   ]
  },
  {
   "cell_type": "markdown",
   "metadata": {},
   "source": [
    "Next, we'll define the sigmoid function as a PyTorch module, which will allow us to easily optimize its parameters using autodifferentiation and backpropagation."
   ]
  },
  {
   "cell_type": "code",
   "execution_count": 18,
   "metadata": {},
   "outputs": [],
   "source": [
    "class Sigmoid(torch.nn.Module):\n",
    "    def __init__(self):\n",
    "        super().__init__()\n",
    "\n",
    "    def forward(self, x):\n",
    "        return torch.sigmoid(x)"
   ]
  },
  {
   "cell_type": "markdown",
   "metadata": {},
   "source": [
    "We'll initialize the parameters of the sigmoid function W and b with random values using torch.randn. We'll also set `requires_grad=True` for both parameters so that we can compute gradients with respect to them."
   ]
  },
  {
   "cell_type": "code",
   "execution_count": 19,
   "metadata": {},
   "outputs": [],
   "source": [
    "# Initialize parameters with random values\n",
    "W = torch.randn(1, requires_grad=True)\n",
    "b = torch.randn(1, requires_grad=True)"
   ]
  },
  {
   "cell_type": "markdown",
   "metadata": {},
   "source": [
    "Next, we'll define the objective function as the mean squared error between the predicted output $y_{pred}$ and the actual output $y$. We'll use the Sigmoid module to compute the predicted output $y_{pred}$ from the input $x$ and the parameters $W$ and $b$."
   ]
  },
  {
   "cell_type": "code",
   "execution_count": 20,
   "metadata": {},
   "outputs": [],
   "source": [
    "# Define objective function\n",
    "criterion = torch.nn.MSELoss()\n",
    "sigmoid = Sigmoid()\n",
    "\n",
    "def objective_fn(W, b):\n",
    "    y_pred = sigmoid(W*x + b)\n",
    "    loss = criterion(y_pred, y)\n",
    "    return loss"
   ]
  },
  {
   "cell_type": "markdown",
   "metadata": {},
   "source": [
    "We will optimize the parameters $W$ and $b$ using gradient descent."
   ]
  },
  {
   "cell_type": "code",
   "execution_count": 22,
   "metadata": {},
   "outputs": [
    {
     "name": "stdout",
     "output_type": "stream",
     "text": [
      "epoch 0, loss: 0.2327\n",
      "epoch 500, loss: 0.0101\n",
      "epoch 1000, loss: 0.0061\n",
      "epoch 1500, loss: 0.0051\n",
      "epoch 2000, loss: 0.0047\n",
      "epoch 2500, loss: 0.0045\n",
      "epoch 3000, loss: 0.0044\n",
      "epoch 3500, loss: 0.0043\n",
      "epoch 4000, loss: 0.0043\n",
      "epoch 4500, loss: 0.0043\n",
      "epoch 5000, loss: 0.0043\n",
      "epoch 5500, loss: 0.0043\n",
      "epoch 6000, loss: 0.0043\n",
      "epoch 6500, loss: 0.0043\n",
      "epoch 7000, loss: 0.0043\n",
      "epoch 7500, loss: 0.0043\n",
      "epoch 8000, loss: 0.0043\n",
      "epoch 8500, loss: 0.0043\n",
      "epoch 9000, loss: 0.0043\n",
      "epoch 9500, loss: 0.0043\n"
     ]
    }
   ],
   "source": [
    "max_iter = 10000\n",
    "lr = 0.1\n",
    "\n",
    "results = []\n",
    "for i in range(max_iter):\n",
    "    loss = objective_fn(W, b)\n",
    "    if i % 500 == 0:\n",
    "        print(f'epoch {i}, loss: {loss.item():.4f}')\n",
    "    loss.backward()\n",
    "    with torch.no_grad():\n",
    "        W -= lr * W.grad\n",
    "        b -= lr * b.grad\n",
    "        W.grad.zero_()\n",
    "        b.grad.zero_()\n",
    "    results.append((W.item(), b.item()))"
   ]
  },
  {
   "cell_type": "markdown",
   "metadata": {},
   "source": [
    "Finally, we can plot the predicted output of the optimized sigmoid function along with the original data to see how well the model fits."
   ]
  },
  {
   "cell_type": "code",
   "execution_count": 23,
   "metadata": {},
   "outputs": [
    {
     "data": {
      "image/png": "[encoded data removed]",
      "text/plain": [
       "<Figure size 450x350 with 1 Axes>"
      ]
     },
     "metadata": {},
     "output_type": "display_data"
    }
   ],
   "source": [
    "# Plot predicted output of optimized sigmoid function\n",
    "W_opt, b_opt = results[-1]\n",
    "y_pred_opt = sigmoid(W_opt*x + b_opt)\n",
    "plt.scatter(x, y)\n",
    "sorted_indices = x.squeeze().sort()[1]\n",
    "plt.plot(x[sorted_indices], y_pred_opt[sorted_indices], color='red', lw=5)\n",
    "plt.xlabel('x')\n",
    "plt.ylabel('y')\n",
    "plt.show()"
   ]
  },
  {
   "cell_type": "markdown",
   "metadata": {},
   "source": [
    "The resulting plot should show the original data points along with a red line representing the predicted output of the optimized sigmoid function. The goal of the optimization is to find the values of $W$ and $b$ that minimize the mean squared error between the predicted output and the actual output. By visual inspection, we can see that the optimized sigmoid function fits the data quite well.\n",
    "\n",
    "Finally, instead of writing our own gradient descend codes, we can also employ the PyTorch optimization `torch.optim` module, which will make this example much more concise."
   ]
  },
  {
   "cell_type": "code",
   "execution_count": 24,
   "metadata": {},
   "outputs": [
    {
     "name": "stdout",
     "output_type": "stream",
     "text": [
      "Epoch 100, Loss: 0.0261\n",
      "Epoch 200, Loss: 0.0081\n",
      "Epoch 300, Loss: 0.0042\n",
      "Epoch 400, Loss: 0.0027\n",
      "Epoch 500, Loss: 0.0018\n",
      "Epoch 600, Loss: 0.0013\n",
      "Epoch 700, Loss: 0.0010\n",
      "Epoch 800, Loss: 0.0007\n",
      "Epoch 900, Loss: 0.0005\n",
      "Epoch 1000, Loss: 0.0004\n",
      "Epoch 1100, Loss: 0.0003\n",
      "Epoch 1200, Loss: 0.0002\n",
      "Epoch 1300, Loss: 0.0002\n",
      "Epoch 1400, Loss: 0.0002\n",
      "Epoch 1500, Loss: 0.0001\n",
      "Epoch 1600, Loss: 0.0001\n",
      "Epoch 1700, Loss: 0.0001\n",
      "Epoch 1800, Loss: 0.0001\n",
      "Epoch 1900, Loss: 0.0000\n",
      "Epoch 2000, Loss: 0.0000\n",
      "Epoch 2100, Loss: 0.0000\n",
      "Epoch 2200, Loss: 0.0000\n",
      "Epoch 2300, Loss: 0.0000\n",
      "Epoch 2400, Loss: 0.0000\n",
      "Epoch 2500, Loss: 0.0000\n",
      "Epoch 2600, Loss: 0.0000\n",
      "Epoch 2700, Loss: 0.0000\n",
      "Epoch 2800, Loss: 0.0000\n",
      "Epoch 2900, Loss: 0.0000\n",
      "Epoch 3000, Loss: 0.0000\n",
      "Epoch 3100, Loss: 0.0000\n",
      "Epoch 3200, Loss: 0.0000\n",
      "Epoch 3300, Loss: 0.0000\n",
      "Epoch 3400, Loss: 0.0000\n",
      "Epoch 3500, Loss: 0.0000\n",
      "Epoch 3600, Loss: 0.0000\n",
      "Epoch 3700, Loss: 0.0000\n",
      "Epoch 3800, Loss: 0.0000\n",
      "Epoch 3900, Loss: 0.0000\n",
      "Epoch 4000, Loss: 0.0000\n",
      "Epoch 4100, Loss: 0.0000\n",
      "Epoch 4200, Loss: 0.0000\n",
      "Epoch 4300, Loss: 0.0000\n",
      "Epoch 4400, Loss: 0.0000\n",
      "Epoch 4500, Loss: 0.0000\n",
      "Epoch 4600, Loss: 0.0000\n",
      "Epoch 4700, Loss: 0.0000\n",
      "Epoch 4800, Loss: 0.0000\n",
      "Epoch 4900, Loss: 0.0000\n",
      "Epoch 5000, Loss: 0.0000\n",
      "Optimized parameters: W = 1.9963, b = -0.9984\n"
     ]
    }
   ],
   "source": [
    "import torch.optim as optim\n",
    "\n",
    "# Generate mock dataset\n",
    "x = torch.randn(100, 1)\n",
    "y = torch.sigmoid(2*x - 1)\n",
    "\n",
    "#------------------------------------------------\n",
    "# define sigmoid model\n",
    "class SigmoidModel(nn.Module):\n",
    "    def __init__(self):\n",
    "        super().__init__()\n",
    "        self.linear = nn.Linear(1, 1)\n",
    "\n",
    "    def forward(self, x):\n",
    "        return torch.sigmoid(self.linear(x))\n",
    "\n",
    "model = SigmoidModel()\n",
    "\n",
    "# Define the loss function\n",
    "criterion = nn.MSELoss()\n",
    "\n",
    "#------------------------------------------------\n",
    "# Define the optimizer\n",
    "optimizer = optim.SGD(model.parameters(), lr=0.1)\n",
    "\n",
    "# Training loop\n",
    "for epoch in range(5000):\n",
    "    # Zero the gradients\n",
    "    optimizer.zero_grad()\n",
    "    \n",
    "    # Forward pass\n",
    "    outputs = model(x)\n",
    "    loss = criterion(outputs, y)\n",
    "    \n",
    "    # Backward pass\n",
    "    loss.backward()\n",
    "    \n",
    "    # Update weights\n",
    "    optimizer.step()\n",
    "\n",
    "    # Print progress\n",
    "    if (epoch+1) % 100 == 0:\n",
    "        print(f'Epoch {epoch+1}, Loss: {loss.item():.4f}')\n",
    "        \n",
    "#------------------------------------------------\n",
    "# retrieve optimized parameters\n",
    "w_opt, b_opt = model.linear.weight.item(), model.linear.bias.item()\n",
    "\n",
    "# print optimized parameters\n",
    "print(f'Optimized parameters: W = {w_opt:.4f}, b = {b_opt:.4f}')"
   ]
  },
  {
   "cell_type": "markdown",
   "metadata": {},
   "source": [
    "We can also explore the `grad_fn` attribute of a PyTorch tensor, which provides information about the operation that was performed to produce the tensor, as well as its inputs. We can use the `next_functions` attribute to explore the graph further by following the edges backwards."
   ]
  },
  {
   "cell_type": "code",
   "execution_count": 25,
   "metadata": {},
   "outputs": [
    {
     "name": "stdout",
     "output_type": "stream",
     "text": [
      "<MseLossBackward0 object at 0x7fede1299670>\n",
      "<SigmoidBackward0 object at 0x7fede1299a30>\n",
      "<AddmmBackward0 object at 0x7fede1299670>\n",
      "<AccumulateGrad object at 0x7fede1299910>\n"
     ]
    }
   ],
   "source": [
    "print(loss.grad_fn)  # should print \"MseLossBackward()\"\n",
    "print(loss.grad_fn.next_functions[0][0])  # should print \"SigmoidBackward()\"\n",
    "print(loss.grad_fn.next_functions[0][0].next_functions[0][0])  # should print \"AddmmBackward()\"\n",
    "print(loss.grad_fn.next_functions[0][0].next_functions[0][0].next_functions[0][0])  # should print \"AccumulateGrad()\""
   ]
  },
  {
   "cell_type": "markdown",
   "metadata": {},
   "source": [
    "Each of these objects represents the operation that was performed on the tensor to produce the current node in the computation graph.\n",
    "\n",
    "The first object, `MseLossBackward0`, represents the backward pass of the mean squared error loss. This object computes the gradient of the loss with respect to its inputs, which in this case is the output of the sigmoid function.\n",
    "\n",
    "The second object, `SigmoidBackward0`, represents the backward pass of the sigmoid function. This object computes the gradient of the sigmoid function with respect to its inputs, which in this case is the weighted sum of the input features.\n",
    "\n",
    "The third object, `AddmmBackward0`, represents the backward pass of the linear transformation ($x \\rightarrow Wx + b$). This object computes the gradient of the linear transformation with respect to its inputs, which in this case is the input features.\n",
    "\n",
    "The fourth object, `AccumulateGrad`, represents the accumulation of gradients during the backward pass. This object is used to accumulate gradients from multiple backward passes, which is necessary when performing gradient descent over an ensemble of data points.\n",
    "\n",
    "By examining the `grad_fn` attributes of the tensors in the computation graph, we can trace back the operations that were performed on the inputs to produce the output, and we can use this information to compute the gradients of the parameters with respect to the loss function.\n",
    "\n",
    "---"
   ]
  },
  {
   "cell_type": "markdown",
   "metadata": {},
   "source": [
    "## Summary\n",
    "\n",
    "We've learned in this tutorial:\n",
    "\n",
    "- **Pytorch basics**: We learned the basics of Pytorch and its connection with NumPy. Pytorch is a Python-based scientific computing package that allows us to perform numerical operations using GPUs, which can significantly speed up computation. Pytorch is built on top of the Torch library and offers a wide range of tools for building and training machine learning models.\n",
    "\n",
    "- **GPU acceleration**: We learned how to accelerate our computations using GPUs in Pytorch. Pytorch has a CUDA backend that allows us to utilize GPUs to speed up computations, especially for large-scale machine learning problems.\n",
    "\n",
    "- **Gradient descent**: We learned about gradient descent, which is an optimization algorithm used to minimize a cost function by iteratively adjusting the parameters of a machine learning model. We discussed stochastic gradient descent and how they are used in practice.\n",
    "\n",
    "- **Autodifferentiation and backpropagation**: We learned about autodifferentiation and backpropagation, which are key techniques for computing gradients in Pytorch. Autodifferentiation allows us to compute gradients automatically without having to derive them manually, while backpropagation allows us to efficiently propagate gradients backward through a computational graph.\n",
    "\n",
    "- **Pytorch implementation**: We learned how to implement gradient descent, autodifferentiation, and backpropagation in Pytorch using various functions and modules. We also learned how to use Pytorch's built-in optimization functions and tools, such as the torch.optim module.\n",
    "\n",
    "Overall, this tutorial provided a comprehensive introduction to Pytorch and its applications in machine learning. Armed with this knowledge, we can now start building more complex models and experimenting with different neural network architectures in the following tutorials.\n",
    "\n",
    "---"
   ]
  },
  {
   "cell_type": "markdown",
   "metadata": {},
   "source": [
    "## Bonus : Implementy Autodifferentiation and Backpropagation Using Only Numpy\n",
    "\n",
    "(credit: Part of the codes here are adapted from a tutorial in [COMP4670/8600](https://www.sml2023.com/) that I taught, prepared by tutor Chamin Hewa Koneputugodage)\n",
    "\n",
    "We've demonstrated that PyTorch can make complex neural networks modular and easy to optimize through backpropagation. Central to any autodifferentiation package like PyTorch is the ability to store not only the output value of a function in a computational graph but also the derivatives of that function with respect to the input variables. This is why, in PyTorch, when we set `required_grad=True`, the size of the array doubles to store not just the output but also the local gradients. During backpropagation, these local gradients are used to iteratively calculate all the gradients within the computational graph.\n",
    "\n",
    "While the concept may seem straightforward, the implementation details can be quite intricate. However, it is possible to build backpropagation functionality and neural networks using only Numpy, albeit with less optimization compared to PyTorch. We'll use the Sigmoid example from before and build individual layers for the computational nodes, including the automatic storage of gradients.\n",
    "\n",
    "By understanding the details below, you'll gain a deeper understanding of backpropagation.\n",
    "\n",
    "First, let's implement the fully connected layer, which performs the operation $\\mathbf{y} = \\mathbf{W} \\cdot \\mathbf{x} + \\mathbf{b}$. In PyTorch, this layer is referred to as a Linear layer. The fully connected layer is a fundamental component of most neural networks, as it connects the input and output neurons within and between layers. It is responsible for transforming the input data using weights $\\mathbf{w}$ and biases $\\mathbf{b}$ to produce the output $\\mathbf{y}$.\n",
    "\n",
    "The weights and biases are learnable parameters that are adjusted during the training process to minimize the loss function. In a fully connected layer, each output neuron is connected to every input neuron, allowing the layer to learn complex patterns and relationships in the input data."
   ]
  },
  {
   "cell_type": "code",
   "execution_count": 26,
   "metadata": {},
   "outputs": [],
   "source": [
    "# Constructor for the FullyConnectedLayer class\n",
    "class FullyConnectedLayer():\n",
    "    def __init__(self, in_features, out_features):\n",
    "        self.in_features = in_features  # Number of input features\n",
    "        self.out_features = out_features  # Number of output features\n",
    "        self.weight = np.zeros((in_features, out_features))  # Weight matrix: W\n",
    "        self.bias = np.zeros((out_features, 1))  # Bias vector: b\n",
    "        self.g_weight = np.zeros((in_features, out_features))  # Gradient of weight matrix: dy/dW\n",
    "        self.g_bias = np.zeros((out_features, 1))  # Gradient of bias vector: dy/db\n",
    "        self.input = None  # Placeholder for input data\n",
    "\n",
    "    # Initialize the weights and biases with random values\n",
    "    def init_weights(self):        \n",
    "        self.weight = np.random.randn(self.in_features, self.out_features)\n",
    "        self.bias = np.random.rand(self.out_features, 1)\n",
    "\n",
    "    # Perform forward pass through the layer\n",
    "    def forward_pass(self, X):        \n",
    "        self.input = X  # Store input data: x\n",
    "        out = np.dot(X, self.weight) + self.bias.T  # Compute the output: y(x|W,b)\n",
    "        return out\n",
    "        \n",
    "    # Perform backward pass through the layer\n",
    "    # Note that g_next_layer is the gradient from the future layer\n",
    "    # recall from the lecture that the gradient for the current layer take into account the gradient from the future layer\n",
    "    # by the chain rule (matrix multiplication)\n",
    "    def backward_pass(self, g_next_layer):\n",
    "        self.g_weight = np.dot(self.input.T, g_next_layer)  # Compute gradient of weight matrix\n",
    "        self.g_bias = np.sum(g_next_layer, axis=0, keepdims=True)  # Compute gradient of bias vector\n",
    "        g_last_layer = np.dot(g_next_layer, self.weight.T)  # Compute gradient of the input data for the current layer: dy/dx\n",
    "        return g_last_layer # we return the graident of the input data for the current layer so that it can be used in the previous layer\n",
    "\n",
    "    # Update weights and biases using the computed gradients\n",
    "    def update(self, learning_rate):\n",
    "        self.weight -= learning_rate*self.g_weight  # Update weight matrix\n",
    "        self.bias -= learning_rate*self.g_bias.T  # Update bias vector\n"
   ]
  },
  {
   "cell_type": "markdown",
   "metadata": {},
   "source": [
    "Now let's implement sigmoid function and sigmoid layer."
   ]
  },
  {
   "cell_type": "code",
   "execution_count": 27,
   "metadata": {},
   "outputs": [],
   "source": [
    "# Sigmoid activation function\n",
    "def sigmoid(X):\n",
    "    return 1 / (1 + np.exp(-X))\n",
    "\n",
    "# Constructor for the Sigmoid class\n",
    "class Sigmoid():\n",
    "    def __init__(self):\n",
    "        self.input = None  # Placeholder for input data\n",
    "        self.ctx = None  # Placeholder for output of the sigmoid function\n",
    "\n",
    "    # Perform forward pass through the sigmoid activation function\n",
    "    def forward_pass(self, X):\n",
    "        self.input = X  # Store input data\n",
    "        self.ctx = sigmoid(X)  # Apply sigmoid function and store the result\n",
    "        return self.ctx\n",
    "\n",
    "    # Perform backward pass through the sigmoid activation function\n",
    "    def backward_pass(self, g_next_layer):\n",
    "\n",
    "        # Compute the derivative of the sigmoid function, while taking into account the gradient from the future layer\n",
    "        # recall that the gradient of the sigmoid function is: dsigma/dx = sigma(x) * (1 - sigma(x))\n",
    "        g_last_layer = self.ctx * (1 - self.ctx) * g_next_layer\n",
    "        return g_last_layer\n",
    "\n",
    "    # No update needed for the Sigmoid activation function,\n",
    "    # since it does not have any parameters to update\n",
    "    def update(self, learning_rate):\n",
    "        pass"
   ]
  },
  {
   "cell_type": "markdown",
   "metadata": {},
   "source": [
    "Now let's implement MSE loss."
   ]
  },
  {
   "cell_type": "code",
   "execution_count": 28,
   "metadata": {},
   "outputs": [],
   "source": [
    "# Constructor for the MeanSquaredErrorLoss class\n",
    "class MSELoss():\n",
    "    def __init__(self):\n",
    "        self.input_y = None  # Placeholder for input predictions\n",
    "        self.input_t = None  # Placeholder for input targets: y_true\n",
    "        self.input_N = None  # Placeholder for batch size \n",
    "\n",
    "    # Perform forward pass through the MSE loss function\n",
    "    def forward_pass(self, y, t):\n",
    "        if len(t.shape) == 1:\n",
    "            t = t[:, None]  # Reshape targets if necessary\n",
    "\n",
    "        self.input_y = y  # Store input predictions\n",
    "        self.input_t = t  # Store input targets\n",
    "        self.input_N = y.shape[0]  # Store batch size\n",
    "\n",
    "        loss = (y - t)**2  # Calculate squared error for each prediction and target\n",
    "\n",
    "        return np.mean(loss)  # Return the mean of the loss\n",
    "    \n",
    "    # Perform backward pass through the MSE loss function\n",
    "    def backward_pass(self, g_next_layer = 1):\n",
    "\n",
    "        # Compute gradient of the MSE loss function, while taking into account the gradient from the future layer\n",
    "        # recall that the gradient of the MSE loss function is: dMSE/dy = 2 * (y - t)\n",
    "        # the 1/N factor is because we are using the mean of the loss \n",
    "        # and when we sum up the gradients in stochastic gradient descent, we need to divide by the batch size\n",
    "        g_last_layer = 2 * (self.input_y - self.input_t) / self.input_N * g_next_layer\n",
    "        return g_last_layer\n",
    "\n",
    "    # No update needed for the MSE loss function, so this method is a placeholder\n",
    "    def update(self, learning_rate):\n",
    "        pass"
   ]
  },
  {
   "cell_type": "markdown",
   "metadata": {},
   "source": [
    "Now that we have created the essential building blocks, we can combine them to create a simple (one-layer) yet functional neural network. This network will be based on the Sigmoid example we discussed earlier. The neural network will consist of a fully connected layer followed by a Sigmoid activation function. This basic architecture is useful for understanding how the different components interact and how data flows through the network.\n",
    "\n",
    "To construct this neural network, we will:\n",
    "\n",
    "- Create a FullyConnectedLayer object with a specified number of input and output features. This layer is responsible for performing the linear transformation on the input data.\n",
    "\n",
    "- Initialize the weights and biases for the FullyConnectedLayer using the init_weights() method. This ensures that our network starts with random weights and biases, which is essential for the training process.\n",
    "\n",
    "- Create a Sigmoid object that will apply the sigmoid activation function to the output of the fully connected layer. This activation function is responsible for introducing nonlinearity into the network, allowing it to learn complex patterns in the input data.\n",
    "\n",
    "- Implement a `forward_pass()` method that takes input data and feeds it through the network. The method will call the `forward_pass()` functions of each layer and activation function in the correct order.\n",
    "\n",
    "- Implement a `backward_pass()` method that computes the gradients of the loss function with respect to the network's parameters. This method will call the `backward_pass()` functions of each layer and activation function in the reverse order, effectively applying the chain rule to compute gradients.\n",
    "\n",
    "- Implement an `update()` method that updates the weights and biases of the network using the computed gradients and a specified learning rate.\n",
    "\n",
    "By assembling these components, we create a simple neural network that can be trained using gradient descent or other optimization algorithms to learn patterns in the input data. This basic architecture can serve as a foundation for building more complex and sophisticated neural networks in the future."
   ]
  },
  {
   "cell_type": "code",
   "execution_count": 29,
   "metadata": {},
   "outputs": [],
   "source": [
    "class Network():\n",
    "    # Constructor for the Network class\n",
    "    def __init__(self):\n",
    "        self.sequential = []  # List to store the layers in the network\n",
    "        \n",
    "        # Create the first fully connected layer, we use 1 input feature and 1 output feature\n",
    "        fc1 = FullyConnectedLayer(1, 1)\n",
    "        fc1.init_weights()  # Initialize the weights and biases for the first fully connected layer\n",
    "        self.sequential.append(fc1)  # Add the first fully connected layer to the network\n",
    "\n",
    "        # Create the first sigmoid activation function\n",
    "        sigmoid1 = Sigmoid()\n",
    "        self.sequential.append(sigmoid1)  # Add the sigmoid activation function to the network\n",
    "        \n",
    "    # Perform forward pass through the network\n",
    "    def forward_pass(self, X):\n",
    "        for l in self.sequential:\n",
    "            X = l.forward_pass(X)  # Pass the input through each layer in the network\n",
    "        return X\n",
    "\n",
    "    # Perform backward pass through the network\n",
    "    def backward_pass(self, grad):\n",
    "        for l in reversed(self.sequential):\n",
    "            grad = l.backward_pass(grad)  # Pass the gradient through each layer in reverse order\n",
    "            \n",
    "    # Update the learnable parameters in the network\n",
    "    def update(self, learning_rate):\n",
    "        for l in self.sequential:\n",
    "            l.update(learning_rate)  # Update the learnable parameters in each layer using the given learning rate\n"
   ]
  },
  {
   "cell_type": "code",
   "execution_count": 30,
   "metadata": {},
   "outputs": [],
   "source": [
    "np.random.seed(1)\n",
    "net = Network()\n",
    "mse = MSELoss()"
   ]
  },
  {
   "cell_type": "markdown",
   "metadata": {},
   "source": [
    "We will now put our model to the test by generating a simple mock dataset that follows the Sigmoid function and attempt to recover the underlying function. This exercise will help us understand how well our neural network can learn from data and generalize the learned patterns to make accurate predictions.\n",
    "\n",
    "To accomplish this, we will:\n",
    "\n",
    "- Generate a synthetic dataset that consists of input-output pairs representing the Sigmoid function. The input values will be randomly sampled within a specific range, and the corresponding output values will be calculated using the Sigmoid function.\n",
    "\n",
    "- Split the generated dataset into training and testing sets. The training set will be used to train our model, while the testing set will be used to evaluate its performance on unseen data.\n",
    "\n",
    "- Train the model using the training set by iterating through the dataset for a specified number of epochs. In each epoch, we will perform a forward pass, calculate the loss, perform a backward pass to compute the gradients, and update the network's parameters using the computed gradients and a specified learning rate.\n",
    "\n",
    "- Evaluate the performance of the model on the testing set by calculating the mean squared error (MSE) loss between the predicted values and the ground truth values. This will give us an indication of how well the network has learned the underlying Sigmoid function."
   ]
  },
  {
   "cell_type": "code",
   "execution_count": 31,
   "metadata": {},
   "outputs": [],
   "source": [
    "from sklearn.model_selection import train_test_split\n",
    "\n",
    "def generate_data(num_samples):\n",
    "    X = np.random.rand(num_samples, 1) * 10 - 5  # Generate random input data in range [-5, 5]\n",
    "    y = 1 / (1 + np.exp(-X))  # Apply the sigmoid function to the input data\n",
    "    return X, y\n",
    "\n",
    "num_samples = 1000  # Specify the number of samples for the synthetic dataset\n",
    "X, y = generate_data(num_samples)  # Generate the input-output pairs for the dataset\n",
    "\n",
    "X_mean = X.mean(axis = 0)  # Calculate the mean of the input data\n",
    "\n",
    "X -= X_mean  # Subtract the mean from the input data (centering)\n",
    "X /= np.var(X, axis = 0)  # Normalize the input data by dividing by its variance\n",
    "\n",
    "# Split the dataset into training and testing sets, with a 50% test size\n",
    "X_train, X_test, y_train, y_test = train_test_split(X, y, test_size = 0.5)\n",
    "\n",
    "training_epoch = 50000  # Specify the number of training epochs\n",
    "\n",
    "# Initialize arrays to store the training and testing loss values for each epoch\n",
    "train_loss_list = np.zeros(training_epoch)\n",
    "test_loss_list = np.zeros(training_epoch)\n"
   ]
  },
  {
   "cell_type": "code",
   "execution_count": null,
   "metadata": {},
   "outputs": [],
   "source": [
    "for i in range(training_epoch):\n",
    "    # Perform a forward pass through the network using the training data\n",
    "    p = net.forward_pass(X_train)\n",
    "\n",
    "    # Calculate the training loss using the Mean Squared Error (MSE) loss function\n",
    "    train_loss = mse.forward_pass(p, y_train)\n",
    "    # Store the training loss for the current epoch\n",
    "    train_loss_list[i] = train_loss\n",
    "\n",
    "    # Compute the gradient of the MSE loss function\n",
    "    grad = mse.backward_pass()\n",
    "    # Perform a backward pass through the network to propagate the gradients\n",
    "    net.backward_pass(grad)\n",
    "    # Update the network parameters using the computed gradients and learning rate\n",
    "    net.update(0.1)\n",
    "\n",
    "    # Perform a forward pass through the network using the testing data\n",
    "    p = net.forward_pass(X_test)\n",
    "\n",
    "    # Calculate the testing loss using the Mean Squared Error (MSE) loss function\n",
    "    test_loss = mse.forward_pass(p, y_test)\n",
    "    # Store the testing loss for the current epoch\n",
    "    test_loss_list[i] = test_loss\n",
    "\n",
    "    # Print the current epoch, training loss, and testing loss\n",
    "    if i % 5000 == 0:\n",
    "        print(\"iteration %d: train_loss %f, test_loss %f\" % (i+1, train_loss, test_loss))\n"
   ]
  },
  {
   "cell_type": "markdown",
   "metadata": {},
   "source": [
    "Let's visualize the training and testing loss to check for overfitting."
   ]
  },
  {
   "cell_type": "code",
   "execution_count": 32,
   "metadata": {},
   "outputs": [
    {
     "data": {
      "image/png": "[encoded data removed]",
      "text/plain": [
       "<Figure size 450x350 with 1 Axes>"
      ]
     },
     "metadata": {},
     "output_type": "display_data"
    }
   ],
   "source": [
    "plt.title(\"Loss over epochs\")\n",
    "plt.plot(train_loss_list, label=\"Train\")\n",
    "plt.plot(test_loss_list, label=\"Test\")\n",
    "plt.xlabel(\"Epochs\")\n",
    "plt.ylabel(\"Loss\")\n",
    "plt.legend()\n",
    "plt.show()"
   ]
  },
  {
   "cell_type": "markdown",
   "metadata": {},
   "source": [
    "Finally, we visualize the results by plotting the ground truth Sigmoid function and the model's predictions on the same plot."
   ]
  },
  {
   "cell_type": "code",
   "execution_count": 33,
   "metadata": {},
   "outputs": [
    {
     "data": {
      "image/png": "[encoded data removed]",
      "text/plain": [
       "<Figure size 450x350 with 1 Axes>"
      ]
     },
     "metadata": {},
     "output_type": "display_data"
    }
   ],
   "source": [
    "# Generate linspace for X_pred\n",
    "X_pred = np.linspace(X_test.min(), X_test.max(), 1000)[:, None]\n",
    "\n",
    "# Forecast the y values for X_pred using the trained network\n",
    "y_pred = net.forward_pass(X_pred)\n",
    "\n",
    "# Plot the ground truth and the best fit curve\n",
    "plt.scatter(X_test, y_test, label='Ground Truth', color='blue', alpha=0.5)\n",
    "plt.plot(X_pred, y_pred, label='Best Fit', color='red', lw=3)\n",
    "plt.xlabel('X')\n",
    "plt.ylabel('y')\n",
    "plt.legend()\n",
    "plt.title('Ground Truth vs Best Fit Curve')\n",
    "plt.show()"
   ]
  },
  {
   "cell_type": "markdown",
   "metadata": {},
   "source": [
    "In conclusion, you have learned how to build backpropagation from scratch using only NumPy. This careful dissection should provide you with a better understanding of how popular machine learning packages like PyTorch and TensorFlow work.\n",
    "\n",
    "While these libraries offer powerful and optimized tools to build, train, and deploy complex neural networks, knowing the underlying principles and methods can be crucial in developing a solid foundation in machine learning. By learning how to implement backpropagation and neural networks from scratch, you can better appreciate the intricacies and challenges associated with training models, and also develop a more intuitive understanding of various aspects of the training process.\n",
    "\n",
    "Remember, it's not just about using powerful tools; it's about understanding the fundamental concepts that make them so powerful. Now that you have a deeper insight into backpropagation and neural networks, you are better equipped to leverage the full potential of machine learning packages like PyTorch and TensorFlow in your future projects. Happy learning!"
   ]
  }
 ],
 "metadata": {
  "kernelspec": {
   "display_name": "Python 3",
   "language": "python",
   "name": "python3"
  },
  "language_info": {
   "codemirror_mode": {
    "name": "ipython",
    "version": 3
   },
   "file_extension": ".py",
   "mimetype": "text/x-python",
   "name": "python",
   "nbconvert_exporter": "python",
   "pygments_lexer": "ipython3",
   "version": "3.8.10"
  }
 },
 "nbformat": 4,
 "nbformat_minor": 2
}
